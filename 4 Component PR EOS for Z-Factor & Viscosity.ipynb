{
 "cells": [
  {
   "cell_type": "markdown",
   "id": "8e7ea72d",
   "metadata": {},
   "source": [
    "## Extending to four Component PR EOS"
   ]
  },
  {
   "cell_type": "code",
   "execution_count": 1,
   "id": "a3cf59aa",
   "metadata": {},
   "outputs": [],
   "source": [
    "from matplotlib import pyplot as plt\n",
    "import pandas as pd\n",
    "import seaborn as sns\n",
    "import numpy as np\n",
    "import pr_z_v2 as pr_z\n",
    "R, mwAir, degF2R = 10.731577089016, 28.97, 459.67"
   ]
  },
  {
   "cell_type": "code",
   "execution_count": 2,
   "id": "4d964126-2a41-421b-8b37-5e7ee0e40b8b",
   "metadata": {},
   "outputs": [
    {
     "name": "stdout",
     "output_type": "stream",
     "text": [
      "Z = 0.531988\n",
      "Viscosity = 0.050083 cP\n"
     ]
    }
   ],
   "source": [
    "# Pure CO2 Z-Factor and Viscosity\n",
    "degf = 180 # degf\n",
    "psia = 3200 # psia\n",
    "co2, h2s, n2 = 1.0, 0.0, 0.0\n",
    "\n",
    "# Note: sg is gas mixture sg. \n",
    "# With zero hydrocarbon gas you can use any value for SG as pure component MW's will override\n",
    "Z = pr_z.peng_robinson_z(degf, psia, sg = 0.7, co2=co2, h2s=h2s, n2=n2)\n",
    "\n",
    "# Similarly, with zero hydrocarbon, it does not matter what hydrocarbon MW is used\n",
    "# zi = np.array([CO2, H2S, N2, HC Gas]) - Mole fractions\n",
    "#           lbc(Z, zi, psia, degf, hc_gas_mw)\n",
    "visc = pr_z.lbc(Z, degf, psia, sg = 0.7, co2=co2, h2s=h2s, n2=n2)\n",
    "\n",
    "print('Z =', round(Z, 6))\n",
    "print('Viscosity =', round(visc, 6), 'cP')"
   ]
  },
  {
   "cell_type": "code",
   "execution_count": 3,
   "id": "9878f248",
   "metadata": {},
   "outputs": [
    {
     "name": "stdout",
     "output_type": "stream",
     "text": [
      "Z = 0.871013\n",
      "Viscosity = 0.02194 cP\n"
     ]
    }
   ],
   "source": [
    "# Pure Hydrocarbon Z-Factor and Viscosity\n",
    "sg = 0.75   # sg of mixture\n",
    "degf = 180 # degf\n",
    "psia = 3200 # psia\n",
    "co2, h2s, n2 = 0.0, 0.0, 0.0\n",
    "\n",
    "# Note: sg is gas mixture sg. \n",
    "Z = pr_z.peng_robinson_z(degf, psia, sg = sg, co2=co2, h2s=h2s, n2=n2)\n",
    "\n",
    "# zi = np.array([CO2, H2S, N2, HC Gas]) - Mole fractions\n",
    "#           lbc(Z, zi, psia, degf, hc_gas_mw)\n",
    "visc = pr_z.lbc(Z, degf, psia, sg = sg, co2=co2, h2s=h2s, n2=n2)\n",
    "\n",
    "print('Z =', round(Z, 6))\n",
    "print('Viscosity =', round(visc, 6), 'cP')"
   ]
  },
  {
   "cell_type": "code",
   "execution_count": 4,
   "id": "12bd8d83-1bc0-4ccc-b1ba-665eb73a74b4",
   "metadata": {},
   "outputs": [
    {
     "name": "stdout",
     "output_type": "stream",
     "text": [
      "Z = 0.900498\n",
      "Viscosity = 0.020553 cP\n"
     ]
    }
   ],
   "source": [
    "# 27% inerts mixture Z-Factor and Viscosity\n",
    "sg = 0.75   # sg of mixture\n",
    "degf = 180 # degf\n",
    "psia = 3200 # psia\n",
    "co2, h2s, n2 = 0.2, 0.02, 0.05\n",
    "\n",
    "# Note: sg is gas mixture sg. \n",
    "Z = pr_z.peng_robinson_z(degf, psia, sg = sg, co2=co2, h2s=h2s, n2=n2)\n",
    "\n",
    "# zi = np.array([CO2, H2S, N2, HC Gas]) - Mole fractions\n",
    "#           lbc(Z, zi, psia, degf, hc_gas_mw)\n",
    "visc = pr_z.lbc(Z, degf, psia, sg = sg, co2=co2, h2s=h2s, n2=n2)\n",
    "\n",
    "print('Z =', round(Z, 6))\n",
    "print('Viscosity =', round(visc, 6), 'cP')"
   ]
  },
  {
   "cell_type": "code",
   "execution_count": null,
   "id": "11b70d4c-750c-46fa-af08-0e45b2efa59f",
   "metadata": {},
   "outputs": [],
   "source": []
  }
 ],
 "metadata": {
  "kernelspec": {
   "display_name": "Python 3 (ipykernel)",
   "language": "python",
   "name": "python3"
  },
  "language_info": {
   "codemirror_mode": {
    "name": "ipython",
    "version": 3
   },
   "file_extension": ".py",
   "mimetype": "text/x-python",
   "name": "python",
   "nbconvert_exporter": "python",
   "pygments_lexer": "ipython3",
   "version": "3.10.11"
  }
 },
 "nbformat": 4,
 "nbformat_minor": 5
}
